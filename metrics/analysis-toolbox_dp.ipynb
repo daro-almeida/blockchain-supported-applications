{
 "cells": [
  {
   "cell_type": "markdown",
   "source": [
    "# Import libraries and metrics"
   ],
   "metadata": {
    "collapsed": false
   }
  },
  {
   "cell_type": "code",
   "execution_count": 13,
   "outputs": [],
   "source": [
    "import json\n",
    "import numpy as np\n",
    "import matplotlib.pyplot as plt\n",
    "\n",
    "RESULTS_PATH = \"results/\"\n",
    "CLIENTS_METRICS = \"clients.json\"\n",
    "\n",
    "PLOTS_OUT_PATH = \"plots/\"\n",
    "\n",
    "with open(RESULTS_PATH + CLIENTS_METRICS, \"r\") as f:\n",
    "    clients_metrics = list(map(lambda x: json.loads(x), f.readlines()))\n"
   ],
   "metadata": {
    "collapsed": false,
    "ExecuteTime": {
     "end_time": "2023-06-08T03:32:29.860909712Z",
     "start_time": "2023-06-08T03:32:29.808799144Z"
    }
   }
  },
  {
   "cell_type": "markdown",
   "source": [
    "# Results"
   ],
   "metadata": {
    "collapsed": false
   }
  },
  {
   "cell_type": "markdown",
   "source": [
    "### Poll Values"
   ],
   "metadata": {
    "collapsed": false
   }
  },
  {
   "cell_type": "code",
   "execution_count": 14,
   "outputs": [],
   "source": [
    "poll_values = dict()\n",
    "poll_values[\"Favorite Pizza Topping\"] = [\"Spinach\", \"Pineapple\", \"Green peppers\", \"Black olives\", \"Extra cheese\", \"Bacon\", \"Sausage\", \"Pepperoni\", \"Mushrooms\", \"Onions\"]\n",
    "poll_values[\"Annual Income Bracket\"] = [\"<$25,000\", \"$25,000-$49,999\", \"$50,000-$74,999\", \"$75,000-$99,999\", \"$100,000-$124,999\", \"$125,000-$149,999\", \">=$150,000\"]\n",
    "poll_values[\"Final Grade in CSD\"] = 0.0, 20.0\n",
    "poll_values[\"Satisfaction Level with Current Job at NOVA SST\"] = 0.0, 10.0\n",
    "\n",
    "# create dict pollId -> description\n",
    "descriptions = dict()\n",
    "for r in clients_metrics:\n",
    "    if r[\"metric\"] == \"poll_create\":\n",
    "        descriptions[r[\"pollId\"]] = r[\"description\"]"
   ],
   "metadata": {
    "collapsed": false,
    "ExecuteTime": {
     "end_time": "2023-06-08T03:32:29.955206872Z",
     "start_time": "2023-06-08T03:32:29.822032748Z"
    }
   }
  },
  {
   "cell_type": "markdown",
   "source": [
    "## Basic Stats"
   ],
   "metadata": {
    "collapsed": false
   }
  },
  {
   "cell_type": "code",
   "execution_count": 15,
   "outputs": [],
   "source": [
    "def diff_values_discrete(description: str):\n",
    "    # get times true vote differs from noisy vote\n",
    "    return sum(list(map(lambda r: 0 if int(r[\"trueVoteValue\"]) - int(r[\"noisyVoteValue\"]) == 0 else 1,\n",
    "                    filter(lambda r: r[\"metric\"] == \"poll_vote\" and descriptions[r[\"pollId\"]] == description, clients_metrics))))\n",
    "\n",
    "def diff_values_numeric(description: str):\n",
    "    # get times true vote differs from noisy vote\n",
    "    return sum(list(map(lambda r: abs(float(r[\"trueVoteValue\"]) - float(r[\"noisyVoteValue\"])),\n",
    "                    filter(lambda r: r[\"metric\"] == \"poll_vote\" and descriptions[r[\"pollId\"]] == description, clients_metrics))))\n",
    "\n",
    "def epsilon(description: str):\n",
    "    return float(list(map(lambda r: r[\"epsilon\"],filter(lambda r: r[\"metric\"] == \"poll_create\" and r[\"description\"] == description, clients_metrics)))[0])\n",
    "\n",
    "def prob_truth(epsilon: float):\n",
    "    return np.exp(epsilon) / (np.exp(epsilon) + 1)\n",
    "\n",
    "def means_numeric(description: str):\n",
    "    # mean of both true and noisy votes\n",
    "    return np.mean(list(map(lambda r: float(r[\"trueVoteValue\"]),filter(lambda r: r[\"metric\"] == \"poll_vote\" and descriptions[r[\"pollId\"]] == description, clients_metrics)))), np.mean(list(map(lambda r: float(r[\"noisyVoteValue\"]),filter(lambda r: r[\"metric\"] == \"poll_vote\" and descriptions[r[\"pollId\"]] == description, clients_metrics))))\n",
    "\n",
    "def num_votes(description):\n",
    "    return int(list(map(lambda r: r[\"numVotes\"],filter(lambda r: r[\"metric\"] == \"poll_complete\" and descriptions[r[\"pollId\"]]  == description, clients_metrics)))[0])"
   ],
   "metadata": {
    "collapsed": false,
    "ExecuteTime": {
     "end_time": "2023-06-08T03:32:29.957503949Z",
     "start_time": "2023-06-08T03:32:29.907954029Z"
    }
   }
  },
  {
   "cell_type": "code",
   "execution_count": 16,
   "outputs": [
    {
     "name": "stdout",
     "output_type": "stream",
     "text": [
      "Epsilon Favorite Pizza Topping]:  1.0\n",
      "Epsilon [Annual Income Bracket]:  1.0\n",
      "Epsilon [Final Grade in CSD]:  1.0\n",
      "Epsilon [Satisfaction Level with Current Job at NOVA SST]:  1.0\n"
     ]
    }
   ],
   "source": [
    "print(\"Epsilon Favorite Pizza Topping]: \", epsilon(\"Favorite Pizza Topping\"))\n",
    "print(\"Epsilon [Annual Income Bracket]: \", epsilon(\"Annual Income Bracket\"))\n",
    "\n",
    "print(\"Epsilon [Final Grade in CSD]: \", epsilon(\"Final Grade in CSD\"))\n",
    "print(\"Epsilon [Satisfaction Level with Current Job at NOVA SST]: \", epsilon(\"Satisfaction Level with Current Job at NOVA SST\"))"
   ],
   "metadata": {
    "collapsed": false,
    "ExecuteTime": {
     "end_time": "2023-06-08T03:32:29.958139247Z",
     "start_time": "2023-06-08T03:32:29.908467741Z"
    }
   }
  },
  {
   "cell_type": "code",
   "execution_count": 17,
   "outputs": [
    {
     "name": "stdout",
     "output_type": "stream",
     "text": [
      "P(Truth) [Favorite Pizza Topping]:  0.7310585786300049\n",
      "P(Truth) [Annual Income Bracket]:  0.7310585786300049\n"
     ]
    }
   ],
   "source": [
    "print(\"P(Truth) [Favorite Pizza Topping]: \", prob_truth(epsilon(\"Favorite Pizza Topping\")))\n",
    "print(\"P(Truth) [Annual Income Bracket]: \", prob_truth(epsilon(\"Annual Income Bracket\")))"
   ],
   "metadata": {
    "collapsed": false,
    "ExecuteTime": {
     "end_time": "2023-06-08T03:32:29.958814657Z",
     "start_time": "2023-06-08T03:32:29.908838720Z"
    }
   }
  },
  {
   "cell_type": "code",
   "execution_count": 18,
   "outputs": [
    {
     "name": "stdout",
     "output_type": "stream",
     "text": [
      "Num. false votes [Favorite Pizza Topping]:  50\n",
      "Num. false votes [Annual Income Bracket]:  48\n",
      "Sum noise diff [Final Grade in CSD]:  1039.7189860552164\n",
      "Sum noise diff [Satisfaction Level with Current Job at NOVA SST]:  637.5784122101431\n"
     ]
    }
   ],
   "source": [
    "print(\"Num. false votes [Favorite Pizza Topping]: \", diff_values_discrete(\"Favorite Pizza Topping\"))\n",
    "print(\"Num. false votes [Annual Income Bracket]: \", diff_values_discrete(\"Annual Income Bracket\"))\n",
    "\n",
    "print(\"Sum noise diff [Final Grade in CSD]: \", diff_values_numeric(\"Final Grade in CSD\"))\n",
    "print(\"Sum noise diff [Satisfaction Level with Current Job at NOVA SST]: \", diff_values_numeric(\"Satisfaction Level with Current Job at NOVA SST\"))"
   ],
   "metadata": {
    "collapsed": false,
    "ExecuteTime": {
     "end_time": "2023-06-08T03:32:29.960100099Z",
     "start_time": "2023-06-08T03:32:29.909138243Z"
    }
   }
  },
  {
   "cell_type": "code",
   "execution_count": 19,
   "outputs": [
    {
     "name": "stdout",
     "output_type": "stream",
     "text": [
      "Means (true, noisy) [Final Grade in CSD]:  (14.098012161796085, 10.901858995566421)\n",
      "Means (true, noisy) [Satisfaction Level with Current Job at NOVA SST]:  (7.725236701331178, 5.11922374543877)\n"
     ]
    }
   ],
   "source": [
    "print(\"Means (true, noisy) [Final Grade in CSD]: \", means_numeric(\"Final Grade in CSD\"))\n",
    "print(\"Means (true, noisy) [Satisfaction Level with Current Job at NOVA SST]: \", means_numeric(\"Satisfaction Level with Current Job at NOVA SST\"))"
   ],
   "metadata": {
    "collapsed": false,
    "ExecuteTime": {
     "end_time": "2023-06-08T03:32:29.960917231Z",
     "start_time": "2023-06-08T03:32:29.909420079Z"
    }
   }
  },
  {
   "cell_type": "markdown",
   "source": [
    "## Distribution Comparison"
   ],
   "metadata": {
    "collapsed": false
   }
  },
  {
   "cell_type": "code",
   "execution_count": 20,
   "outputs": [],
   "source": [
    "def calculate_discrete_vote_distribution(description: str, nvalues: int):\n",
    "    # Get the number of votes for each value\n",
    "    votes = list(map(lambda r: int(r[\"trueVoteValue\"]),filter(lambda r: r[\"metric\"] == \"poll_vote\" and descriptions[r[\"pollId\"]] == description, clients_metrics)))\n",
    "    noisy_votes = list(map(lambda r: int(r[\"noisyVoteValue\"]),filter(lambda r: r[\"metric\"] == \"poll_vote\" and descriptions[r[\"pollId\"]] == description, clients_metrics)))\n",
    "    # Calculate the distribution\n",
    "    return np.array([votes.count(value) for value in range(nvalues+1)]), np.array([noisy_votes.count(value) for value in range(nvalues+1)])\n",
    "\n",
    "def gen_bars_discrete_poll(description: str, expected_distribution: np.array, true_distribution: np.array, noisy_distribution: np.array):\n",
    "    bar_width = 0.2\n",
    "    print(expected_distribution)\n",
    "    print(true_distribution)\n",
    "    print(noisy_distribution)\n",
    "\n",
    "    x_labels = poll_values[description]\n",
    "    x = np.arange(len(x_labels))\n",
    "\n",
    "    plt.bar(x, expected_distribution, width=bar_width, label=\"Expected Vote Distribution\")\n",
    "    plt.bar(x + bar_width, true_distribution, width=bar_width, label=\"True Votes\")\n",
    "    plt.bar(x + 2*bar_width, noisy_distribution, width=bar_width, label=\"DP Votes\")\n",
    "    plt.legend()\n",
    "    plt.tight_layout()\n",
    "    plt.xlabel(\"Votes\")\n",
    "    plt.xticks(x + bar_width, x_labels, rotation=90)\n",
    "    plt.ylabel('Nº Votes')\n",
    "    plt.gca().get_yaxis().set_major_locator(plt.MaxNLocator(integer=True))\n",
    "    # toggle grid line in y axin in background\n",
    "    plt.grid(axis='y')\n",
    "    plt.gca().set_axisbelow(True)\n",
    "    plt.show()\n",
    "\n",
    "def calculate_values_binomial(n: int, p: float, nsamples: int):\n",
    "    x = np.arange(n+1)\n",
    "    distributions_probs = np.array([round(np.math.comb(n, k) * p**k * (1-p)**(n-k) * nsamples) for k in x])\n",
    "    # Calculate the cumulative sum of probabilities\n",
    "    cumulative_probs = np.cumsum(distributions_probs)\n",
    "    # Round the probabilities while ensuring they sum up to the desired number of samples\n",
    "    rounded_probs = np.round(cumulative_probs / cumulative_probs[-1] * nsamples).astype(int)\n",
    "    rounded_probs[1:] -= rounded_probs[:-1].copy()\n",
    "    return rounded_probs\n",
    "\n",
    "def pdf_uniform(x: float, min: float, max: float):\n",
    "    if x < min or x > max:\n",
    "        return 0\n",
    "    return 1 / (max - min)\n",
    "\n",
    "def distribution_line_uniform(min: float, max: float):\n",
    "    # Calculate the distribution, generate nsamples values for distribution\n",
    "    return np.linspace(min, max, 2)\n",
    "\n",
    "def pdf_normal(x: float, mean: float, std: float):\n",
    "    return (1 / (np.sqrt(2 * np.pi) * std)) * np.exp(-(x - mean)**2 / (2 * std**2))\n",
    "\n",
    "def distribution_line_normal(mean: float, std: float):\n",
    "    # Calculate the distribution, generate nsamples values for distribution\n",
    "    return np.linspace(mean - 4*std, mean + 4*std, 10000)"
   ],
   "metadata": {
    "collapsed": false,
    "ExecuteTime": {
     "end_time": "2023-06-08T03:32:29.961397350Z",
     "start_time": "2023-06-08T03:32:29.909921770Z"
    }
   }
  },
  {
   "cell_type": "markdown",
   "source": [
    "### Favorite Pizza Topping Poll"
   ],
   "metadata": {
    "collapsed": false
   }
  },
  {
   "cell_type": "code",
   "execution_count": 21,
   "outputs": [
    {
     "name": "stdout",
     "output_type": "stream",
     "text": [
      "[ 0  0  1  4 15 34 54 53 31  8]\n",
      "[ 0  0  0  6 19 33 54 48 34  6]\n",
      "[ 4  4  3  8 20 32 46 44 26 13]\n"
     ]
    },
    {
     "data": {
      "text/plain": "<Figure size 432x288 with 1 Axes>",
      "image/png": "[encoded data removed]"
     },
     "metadata": {
      "needs_background": "light"
     },
     "output_type": "display_data"
    }
   ],
   "source": [
    "\n",
    "# Set the parameters for the binomial distribution\n",
    "n = 9  # Number of trials\n",
    "p = 0.7  # Probability of success\n",
    "\n",
    "description = \"Favorite Pizza Topping\"\n",
    "nvotes = num_votes(description)\n",
    "\n",
    "expected_distribution = calculate_values_binomial(n, p, nvotes)\n",
    "true_distribution, noisy_distribution = calculate_discrete_vote_distribution(description, n)\n",
    "\n",
    "gen_bars_discrete_poll(description, expected_distribution, true_distribution, noisy_distribution)"
   ],
   "metadata": {
    "collapsed": false,
    "ExecuteTime": {
     "end_time": "2023-06-08T03:32:30.274597973Z",
     "start_time": "2023-06-08T03:32:29.917832551Z"
    }
   }
  },
  {
   "cell_type": "markdown",
   "source": [
    "### Annual Income Bracket Poll"
   ],
   "metadata": {
    "collapsed": false
   }
  },
  {
   "cell_type": "code",
   "execution_count": 22,
   "outputs": [
    {
     "name": "stdout",
     "output_type": "stream",
     "text": [
      "[52 80 49 16  3  0  0]\n",
      "[50 67 56 20  7  0  0]\n",
      "[43 53 52 19 14 10  9]\n"
     ]
    },
    {
     "data": {
      "text/plain": "<Figure size 432x288 with 1 Axes>",
      "image/png": "[encoded data removed]"
     },
     "metadata": {
      "needs_background": "light"
     },
     "output_type": "display_data"
    }
   ],
   "source": [
    "\n",
    "# Set the parameters for the binomial distribution\n",
    "n = 6  # Number of trials\n",
    "p = 0.2  # Probability of success\n",
    "\n",
    "description = \"Annual Income Bracket\"\n",
    "nvotes = num_votes(description)\n",
    "\n",
    "expected_distribution = calculate_values_binomial(n, p, nvotes)\n",
    "true_distribution, noisy_distribution = calculate_discrete_vote_distribution(description, n)\n",
    "\n",
    "gen_bars_discrete_poll(description, expected_distribution, true_distribution, noisy_distribution)"
   ],
   "metadata": {
    "collapsed": false,
    "ExecuteTime": {
     "end_time": "2023-06-08T03:32:30.468191386Z",
     "start_time": "2023-06-08T03:32:30.228668939Z"
    }
   }
  },
  {
   "cell_type": "markdown",
   "source": [
    "### Final Grade in CSD Poll"
   ],
   "metadata": {
    "collapsed": false
   }
  },
  {
   "cell_type": "code",
   "execution_count": 23,
   "outputs": [
    {
     "data": {
      "text/plain": "<Figure size 432x288 with 1 Axes>",
      "image/png": "[encoded data removed]"
     },
     "metadata": {
      "needs_background": "light"
     },
     "output_type": "display_data"
    }
   ],
   "source": [
    "min = 0.0\n",
    "max = 20.0\n",
    "a = 8.0\n",
    "b = 20.0\n",
    "description = \"Final Grade in CSD\"\n",
    "\n",
    "nvotes = num_votes(description)\n",
    "x = range(nvotes)\n",
    "\n",
    "expected_distribution = distribution_line_uniform(a, b)\n",
    "true_distribution = list(map(lambda r: float(r[\"trueVoteValue\"]),filter(lambda r: r[\"metric\"] == \"poll_vote\" and descriptions[r[\"pollId\"]] == description, clients_metrics)))\n",
    "noisy_distribution = list(map(lambda r: float(r[\"noisyVoteValue\"]),filter(lambda r: r[\"metric\"] == \"poll_vote\" and descriptions[r[\"pollId\"]] == description, clients_metrics)))\n",
    "\n",
    "# print(expected_distribution)\n",
    "# print(true_distribution)\n",
    "plt.plot(expected_distribution, list(map(lambda x: pdf_uniform(x, a, b), expected_distribution)), label=\"Expected Vote Distribution\", linestyle=\"-\", marker=\"\")\n",
    "plt.plot(true_distribution, list(map(lambda x: pdf_uniform(x, a, b), true_distribution)), label=\"True Votes\", linestyle=\"\", marker=\".\")\n",
    "plt.plot(noisy_distribution, list(map(lambda x: pdf_uniform(x, a, b), noisy_distribution)), label=\"DP Votes\", linestyle=\"\", marker=\".\")\n",
    "\n",
    "plt.xlim(min, max)\n",
    "plt.legend()\n",
    "plt.tight_layout()\n",
    "plt.xlabel(\"Votes\")\n",
    "#plt.xticks(x + bar_width/2, x_labels, rotation=90)\n",
    "plt.ylabel('Probability')\n",
    "#plt.gca().get_yaxis().set_major_locator(plt.MaxNLocator(integer=True))\n",
    "plt.show()\n"
   ],
   "metadata": {
    "collapsed": false,
    "ExecuteTime": {
     "end_time": "2023-06-08T03:32:30.698081565Z",
     "start_time": "2023-06-08T03:32:30.461551473Z"
    }
   }
  },
  {
   "cell_type": "markdown",
   "source": [
    "### Satisfaction Level with Current Job at NOVA SST Poll"
   ],
   "metadata": {
    "collapsed": false
   }
  },
  {
   "cell_type": "code",
   "execution_count": 24,
   "outputs": [
    {
     "data": {
      "text/plain": "<Figure size 432x288 with 1 Axes>",
      "image/png": "[encoded data removed]"
     },
     "metadata": {
      "needs_background": "light"
     },
     "output_type": "display_data"
    }
   ],
   "source": [
    "min = 0.0\n",
    "max = 10.0\n",
    "mean = 8.0\n",
    "std = 1.5\n",
    "description = \"Satisfaction Level with Current Job at NOVA SST\"\n",
    "\n",
    "nvotes = num_votes(description)\n",
    "x = range(nvotes)\n",
    "\n",
    "expected_distribution = distribution_line_normal(a, b)\n",
    "true_distribution = sorted(list(map(lambda r: float(r[\"trueVoteValue\"]),filter(lambda r: r[\"metric\"] == \"poll_vote\" and descriptions[r[\"pollId\"]] == description, clients_metrics))))\n",
    "noisy_distribution = sorted(list(map(lambda r: float(r[\"noisyVoteValue\"]),filter(lambda r: r[\"metric\"] == \"poll_vote\" and descriptions[r[\"pollId\"]] == description, clients_metrics))))\n",
    "# print(expected_distribution)\n",
    "# print(true_distribution)\n",
    "plt.plot(expected_distribution, list(map(lambda x: pdf_normal(x,mean,std), expected_distribution)), label=\"Expected Vote Distribution\", linestyle=\"-\", marker=\"\")\n",
    "plt.plot(true_distribution, list(map(lambda x: pdf_normal(x,mean,std), true_distribution)), label=\"True Votes\", linestyle=\"\", marker=\".\")\n",
    "plt.plot(noisy_distribution, list(map(lambda x: pdf_normal(x,mean,std), noisy_distribution)), label=\"DP Votes\", linestyle=\"\", marker=\".\")\n",
    "plt.xlim(min, max)\n",
    "plt.legend()\n",
    "plt.tight_layout()\n",
    "plt.xlabel(\"Votes\")\n",
    "#plt.xticks(x + bar_width/2, x_labels, rotation=90)\n",
    "plt.ylabel('Probability')\n",
    "#plt.gca().get_yaxis().set_major_locator(plt.MaxNLocator(integer=True))\n",
    "plt.show()\n"
   ],
   "metadata": {
    "collapsed": false,
    "ExecuteTime": {
     "end_time": "2023-06-08T03:32:30.986960131Z",
     "start_time": "2023-06-08T03:32:30.724652957Z"
    }
   }
  },
  {
   "cell_type": "markdown",
   "source": [],
   "metadata": {
    "collapsed": false
   }
  }
 ],
 "metadata": {
  "kernelspec": {
   "display_name": "Python 3",
   "language": "python",
   "name": "python3"
  },
  "language_info": {
   "codemirror_mode": {
    "name": "ipython",
    "version": 2
   },
   "file_extension": ".py",
   "mimetype": "text/x-python",
   "name": "python",
   "nbconvert_exporter": "python",
   "pygments_lexer": "ipython2",
   "version": "2.7.6"
  }
 },
 "nbformat": 4,
 "nbformat_minor": 0
}
