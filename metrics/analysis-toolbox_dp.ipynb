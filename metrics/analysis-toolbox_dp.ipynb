{
 "cells": [
  {
   "cell_type": "markdown",
   "source": [
    "# Import libraries and metrics"
   ],
   "metadata": {
    "collapsed": false
   }
  },
  {
   "cell_type": "code",
   "execution_count": null,
   "outputs": [],
   "source": [
    "import json\n",
    "import numpy as np\n",
    "import matplotlib.pyplot as plt\n",
    "import os\n",
    "import re\n",
    "\n",
    "ROOT_RESULTS_PATH = \"results/\"\n",
    "RESULTS_PATH = \"results/5000c_16.0e_s/\"\n",
    "CLIENTS_METRICS = \"clients.json\"\n",
    "\n",
    "PLOTS_OUT_PATH = \"plots/\"\n",
    "\n",
    "with open(RESULTS_PATH + CLIENTS_METRICS, \"r\") as f:\n",
    "    clients_metrics = list(map(lambda x: json.loads(x), f.readlines()))\n"
   ],
   "metadata": {
    "collapsed": false
   }
  },
  {
   "cell_type": "markdown",
   "source": [
    "# Results"
   ],
   "metadata": {
    "collapsed": false
   }
  },
  {
   "cell_type": "markdown",
   "source": [
    "### Poll Values"
   ],
   "metadata": {
    "collapsed": false
   }
  },
  {
   "cell_type": "code",
   "execution_count": null,
   "outputs": [],
   "source": [
    "poll_values = dict()\n",
    "poll_values[\"D01\"] = [\"A\", \"B\", \"C\", \"D\", \"E\", \"F\", \"G\", \"H\", \"I\", \"J\"]\n",
    "poll_values[\"D02\"] = [\"A\", \"B\", \"C\", \"D\", \"E\", \"F\", \"G\", \"H\", \"I\", \"J\"]\n",
    "poll_values[\"N01\"] = 0.0, 10.0\n",
    "poll_values[\"N02\"] = 0.0, 10.0\n",
    "\n",
    "# create dict pollId -> description\n",
    "descriptions = dict()\n",
    "for r in clients_metrics:\n",
    "    if r[\"metric\"] == \"poll_create\":\n",
    "        descriptions[r[\"pollId\"]] = r[\"description\"]"
   ],
   "metadata": {
    "collapsed": false
   }
  },
  {
   "cell_type": "markdown",
   "source": [],
   "metadata": {
    "collapsed": false
   }
  },
  {
   "cell_type": "markdown",
   "source": [
    "## Basic Stats"
   ],
   "metadata": {
    "collapsed": false
   }
  },
  {
   "cell_type": "code",
   "execution_count": null,
   "outputs": [],
   "source": [
    "def diff_values_discrete(description: str):\n",
    "    # get times true vote differs from noisy vote\n",
    "    return sum(list(map(lambda r: 0 if int(r[\"trueVoteValue\"]) - int(r[\"noisyVoteValue\"]) == 0 else 1,\n",
    "                    filter(lambda r: r[\"metric\"] == \"poll_vote\" and descriptions[r[\"pollId\"]] == description, clients_metrics))))\n",
    "\n",
    "def diff_values_numeric(description: str):\n",
    "    # get times true vote differs from noisy vote\n",
    "    return sum(list(map(lambda r: abs(float(r[\"trueVoteValue\"]) - float(r[\"noisyVoteValue\"])),\n",
    "                    filter(lambda r: r[\"metric\"] == \"poll_vote\" and descriptions[r[\"pollId\"]] == description, clients_metrics))))\n",
    "\n",
    "def diff_percentile95_numeric(description: str):\n",
    "    # get times true vote differs from noisy vote\n",
    "    return np.percentile(list(map(lambda r: abs(float(r[\"trueVoteValue\"]) - float(r[\"noisyVoteValue\"])),\n",
    "                    filter(lambda r: r[\"metric\"] == \"poll_vote\" and descriptions[r[\"pollId\"]] == description, clients_metrics))), 95)\n",
    "\n",
    "def epsilon(description: str):\n",
    "    return float(list(map(lambda r: r[\"epsilon\"],filter(lambda r: r[\"metric\"] == \"poll_create\" and r[\"description\"] == description, clients_metrics)))[0])\n",
    "\n",
    "def prob_truth(epsilon: float):\n",
    "    return np.exp(epsilon) / (np.exp(epsilon) + 1)\n",
    "\n",
    "def means_numeric(description: str):\n",
    "    # mean of both true and noisy votes\n",
    "    return np.mean(list(map(lambda r: float(r[\"trueVoteValue\"]),filter(lambda r: r[\"metric\"] == \"poll_vote\" and descriptions[r[\"pollId\"]] == description, clients_metrics)))), np.mean(list(map(lambda r: float(r[\"noisyVoteValue\"]),filter(lambda r: r[\"metric\"] == \"poll_vote\" and descriptions[r[\"pollId\"]] == description, clients_metrics))))\n",
    "\n",
    "def num_votes(description):\n",
    "    return int(list(map(lambda r: r[\"numVotes\"],filter(lambda r: r[\"metric\"] == \"poll_complete\" and descriptions[r[\"pollId\"]]  == description, clients_metrics)))[0])"
   ],
   "metadata": {
    "collapsed": false
   }
  },
  {
   "cell_type": "code",
   "execution_count": null,
   "outputs": [],
   "source": [
    "print(\"Epsilon [D01]: \", epsilon(\"D01\"))\n",
    "print(\"Epsilon [D02]: \", epsilon(\"D02\"))\n",
    "\n",
    "print(\"Epsilon [N01]: \", epsilon(\"N01\"))\n",
    "print(\"Epsilon [N02]: \", epsilon(\"N02\"))"
   ],
   "metadata": {
    "collapsed": false
   }
  },
  {
   "cell_type": "code",
   "execution_count": null,
   "outputs": [],
   "source": [
    "print(\"P(Truth) [D01]: \", prob_truth(epsilon(\"D01\")))\n",
    "print(\"P(Truth) [D02]: \", prob_truth(epsilon(\"D02\")))"
   ],
   "metadata": {
    "collapsed": false
   }
  },
  {
   "cell_type": "code",
   "execution_count": null,
   "outputs": [],
   "source": [
    "print(\"Num. false votes [D01]: \", diff_values_discrete(\"D01\"))\n",
    "print(\"Num. false votes [D02]: \", diff_values_discrete(\"D02\"))"
   ],
   "metadata": {
    "collapsed": false
   }
  },
  {
   "cell_type": "code",
   "execution_count": null,
   "outputs": [],
   "source": [
    "avg_n01 = diff_values_numeric(\"N01\") / num_votes(\"N01\")\n",
    "avg_n02 = diff_values_numeric(\"N02\") / num_votes(\"N02\")\n",
    "print(\"Avg noise diff [N01]: \", avg_n01)\n",
    "print(\"Avg noise diff [N02]: \", avg_n02)\n",
    "# percentile 95%\n",
    "print(\"95% percentile [N01]: \", diff_percentile95_numeric(\"N01\"))\n",
    "print(\"95% percentile [N02]: \", diff_percentile95_numeric(\"N02\"))"
   ],
   "metadata": {
    "collapsed": false
   }
  },
  {
   "cell_type": "code",
   "execution_count": null,
   "outputs": [],
   "source": [
    "#print(\"Means (true, noisy) [N01]: \", means_numeric(\"N01\"))\n",
    "print(\"Mean diff [N01]: \", means_numeric(\"N01\")[0] - means_numeric(\"N01\")[1])\n",
    "#print(\"Means (true, noisy) [N02]: \", means_numeric(\"N02\"))\n",
    "print(\"Mean diff [N02]: \", means_numeric(\"N02\")[0] - means_numeric(\"N02\")[1])"
   ],
   "metadata": {
    "collapsed": false
   }
  },
  {
   "cell_type": "markdown",
   "source": [
    "## Distribution Comparison"
   ],
   "metadata": {
    "collapsed": false
   }
  },
  {
   "cell_type": "code",
   "execution_count": null,
   "outputs": [],
   "source": [
    "def calculate_discrete_vote_distribution(description: str, nvalues: int):\n",
    "    # Get the number of votes for each value\n",
    "    votes = list(map(lambda r: int(r[\"trueVoteValue\"]),filter(lambda r: r[\"metric\"] == \"poll_vote\" and descriptions[r[\"pollId\"]] == description, clients_metrics)))\n",
    "    noisy_votes = list(map(lambda r: int(r[\"noisyVoteValue\"]),filter(lambda r: r[\"metric\"] == \"poll_vote\" and descriptions[r[\"pollId\"]] == description, clients_metrics)))\n",
    "    # Calculate the distribution\n",
    "    return np.array([votes.count(value) for value in range(nvalues+1)]), np.array([noisy_votes.count(value) for value in range(nvalues+1)])\n",
    "\n",
    "def calculate_discrete_vote_distribution_e(description: str, nvalues: int, metrics):\n",
    "    descrs = dict()\n",
    "    for r in metrics:\n",
    "        if r[\"metric\"] == \"poll_create\":\n",
    "            descrs[r[\"pollId\"]] = r[\"description\"]\n",
    "\n",
    "    # Get the number of votes for each value\n",
    "    votes = list(map(lambda r: int(r[\"trueVoteValue\"]),filter(lambda r: r[\"metric\"] == \"poll_vote\" and descrs[r[\"pollId\"]] == description, metrics)))\n",
    "    noisy_votes = list(map(lambda r: int(r[\"noisyVoteValue\"]),filter(lambda r: r[\"metric\"] == \"poll_vote\" and descrs[r[\"pollId\"]] == description, metrics)))\n",
    "    # Calculate the distribution\n",
    "    return np.array([votes.count(value) for value in range(nvalues+1)]), np.array([noisy_votes.count(value) for value in range(nvalues+1)])\n",
    "\n",
    "def calculate_numeric_vote_distribution(description: str):\n",
    "    # Get the number of votes for each value\n",
    "    votes = list(map(lambda r: float(r[\"trueVoteValue\"]),filter(lambda r: r[\"metric\"] == \"poll_vote\" and descriptions[r[\"pollId\"]] == description, clients_metrics)))\n",
    "    noisy_votes = list(map(lambda r: float(r[\"noisyVoteValue\"]),filter(lambda r: r[\"metric\"] == \"poll_vote\" and descriptions[r[\"pollId\"]] == description, clients_metrics)))\n",
    "    # Calculate the distribution\n",
    "    return np.array(votes), np.array(noisy_votes)\n",
    "\n",
    "def calculate_numeric_vote_distribution_e(description: str, metrics):\n",
    "    descrs = dict()\n",
    "    for r in metrics:\n",
    "        if r[\"metric\"] == \"poll_create\":\n",
    "            descrs[r[\"pollId\"]] = r[\"description\"]\n",
    "\n",
    "    # Get the number of votes for each value\n",
    "    votes = list(map(lambda r: float(r[\"trueVoteValue\"]),filter(lambda r: r[\"metric\"] == \"poll_vote\" and descrs[r[\"pollId\"]] == description, metrics)))\n",
    "    noisy_votes = list(map(lambda r: float(r[\"noisyVoteValue\"]),filter(lambda r: r[\"metric\"] == \"poll_vote\" and descrs[r[\"pollId\"]] == description, metrics)))\n",
    "    # Calculate the distribution\n",
    "    return np.array(votes), np.array(noisy_votes)\n",
    "\n",
    "def count_ranges(values, nranges: int, min_val: float, max_val: float):\n",
    "    # Calculate the size of each range interval\n",
    "    interval_size = (max_val - min_val) / nranges\n",
    "\n",
    "    # Initialize the count for each range interval\n",
    "    counts = [0] * nranges\n",
    "\n",
    "    # Iterate over the values and count the number of values in each range interval\n",
    "    for value in values:\n",
    "        # Adjust value if it falls outside the specified range\n",
    "        if value < min_val:\n",
    "            index = 0\n",
    "        elif value > max_val:\n",
    "            index = nranges - 1\n",
    "        else:\n",
    "            # Determine the index of the range interval where the value falls\n",
    "            index = int((value - min_val) // interval_size)\n",
    "\n",
    "        counts[index] += 1\n",
    "\n",
    "    return counts\n",
    "\n",
    "def calculate_values_integer_uniform(a: int, b: int, nsamples: int):\n",
    "    x = np.arange(a, b+1)\n",
    "    distributions_probs = np.array([round((1 / (b - a + 1)) * nsamples) for _ in x])\n",
    "    # Calculate the cumulative sum of probabilities\n",
    "    cumulative_probs = np.cumsum(distributions_probs)\n",
    "    # Round the probabilities while ensuring they sum up to the desired number of samples\n",
    "    rounded_probs = np.round(cumulative_probs / cumulative_probs[-1] * nsamples).astype(int)\n",
    "    rounded_probs[1:] -= rounded_probs[:-1].copy()\n",
    "    return rounded_probs\n",
    "\n",
    "def calculate_values_binomial(n: int, p: float, nsamples: int):\n",
    "    x = np.arange(n+1)\n",
    "    distributions_probs = np.array([round(np.math.comb(n, k) * p**k * (1-p)**(n-k) * nsamples) for k in x])\n",
    "    # Calculate the cumulative sum of probabilities\n",
    "    cumulative_probs = np.cumsum(distributions_probs)\n",
    "    # Round the probabilities while ensuring they sum up to the desired number of samples\n",
    "    rounded_probs = np.round(cumulative_probs / cumulative_probs[-1] * nsamples).astype(int)\n",
    "    rounded_probs[1:] -= rounded_probs[:-1].copy()\n",
    "    return rounded_probs\n",
    "\n",
    "def calculate_values_normal(mean: float, std: float, nsamples: int):\n",
    "    return np.linspace(mean - 4*std, mean + 4*std, nsamples)\n",
    "\n",
    "def gen_bars_discrete_poll(description: str, expected_distribution: np.array, true_distribution: np.array, noisy_distribution: np.array):\n",
    "    bar_width = 0.2\n",
    "    #print(expected_distribution)\n",
    "    print(true_distribution)\n",
    "    print(noisy_distribution)\n",
    "\n",
    "    x_labels = poll_values[description]\n",
    "    x = np.arange(len(x_labels))\n",
    "\n",
    "    #plt.bar(x, expected_distribution, width=bar_width, label=\"Expected Vote Distribution\")\n",
    "    plt.bar(x + bar_width, true_distribution, width=bar_width, label=\"True Votes\")\n",
    "    plt.bar(x + 2*bar_width, noisy_distribution, width=bar_width, label=\"DP Votes (ε = {})\".format(epsilon(description)))\n",
    "    plt.legend()\n",
    "    plt.tight_layout()\n",
    "    plt.xlabel(\"Votes\")\n",
    "    plt.xticks(x + bar_width, x_labels)\n",
    "    plt.ylabel('Nº Votes')\n",
    "    plt.gca().get_yaxis().set_major_locator(plt.MaxNLocator(integer=True))\n",
    "    # toggle grid line in y axin in background\n",
    "    plt.grid(axis='y')\n",
    "    plt.gca().set_axisbelow(True)\n",
    "    plt.savefig(PLOTS_OUT_PATH + \"discrete_{}_{}e.pdf\".format(description, epsilon(description)))\n",
    "    plt.show()\n",
    "\n",
    "def gen_plot_numeric_poll(description: str, nranges: int, mean: float, std: float):\n",
    "    min_val = poll_values[description][0]\n",
    "    max_val = poll_values[description][1]\n",
    "\n",
    "    nvotes = num_votes(description)\n",
    "\n",
    "    #expected_distribution = count_ranges(calculate_values_normal(mean, std, nvotes), nranges, min_val, max_val)\n",
    "    true_values, noisy_values = calculate_numeric_vote_distribution(description)\n",
    "    true_distribution = count_ranges(true_values, nranges, min_val, max_val)\n",
    "    noisy_distribution = count_ranges(noisy_values, nranges, min_val, max_val)\n",
    "    # x should be beggining of each range\n",
    "    x = np.arange(min_val, max_val, (max_val-min_val)/nranges)\n",
    "    #plt.plot(x, expected_distribution, label=\"Expected Vote Distribution\")\n",
    "    plt.plot(x, true_distribution, label=\"True Votes\")\n",
    "    plt.plot(x, noisy_distribution, label=\"DP Votes (ε = {})\".format(epsilon(description)))\n",
    "\n",
    "    plt.xlim(min_val, max_val)\n",
    "    plt.legend()\n",
    "    plt.tight_layout()\n",
    "    plt.xlabel(\"Votes\")\n",
    "    plt.ylabel('Nº Votes')\n",
    "    plt.grid()\n",
    "    plt.gca().set_axisbelow(True)\n",
    "    plt.savefig(PLOTS_OUT_PATH + \"numeric_{}_{}e.pdf\".format(description, epsilon(description)))\n",
    "    plt.show()\n",
    "\n",
    "def gen_multibars_discrete_poll():\n",
    "    epsilons = [0.25, 0.5, 1.0, 2.0]\n",
    "    clients_metrics_e = dict()\n",
    "\n",
    "    for exp in os.listdir(ROOT_RESULTS_PATH):\n",
    "        # use regex to get epsilon: format 5000c_0.25e_s\n",
    "        ep = float(re.search(r'(\\d+c)_(\\d+\\.\\d+)e', exp).group(2))\n",
    "        if ep not in epsilons:\n",
    "            continue\n",
    "        with open(ROOT_RESULTS_PATH + exp + \"/\" + CLIENTS_METRICS, \"r\") as f:\n",
    "            clients_metrics_e[ep] = list(map(lambda x: json.loads(x), f.readlines()))\n",
    "\n",
    "    for description in list(filter(lambda x: x.startswith(\"D\"), poll_values.keys())):\n",
    "        x_labels = poll_values[description]\n",
    "        x = np.arange(len(x_labels))\n",
    "        bar_width = 0.15\n",
    "        fig, ax = plt.subplots()\n",
    "\n",
    "        for i in range(len(epsilons)):\n",
    "            ep = epsilons[i]\n",
    "            true_distribution, noisy_distribution = calculate_discrete_vote_distribution_e(description, len(x_labels) - 1, clients_metrics_e[ep])\n",
    "            ax.bar((x + i*bar_width), noisy_distribution, width=bar_width, label=\"DP Votes (ε = {})\".format(ep))\n",
    "        ax.bar(x - bar_width, true_distribution, width=bar_width, label=\"True Votes\")\n",
    "        ax.legend()\n",
    "        ax.set_xlabel(\"Votes\")\n",
    "        ax.set_xticks(x + bar_width)\n",
    "        ax.set_xticklabels(x_labels)\n",
    "        ax.set_ylabel('Nº Votes')\n",
    "        ax.grid(axis='y')\n",
    "        ax.set_axisbelow(True)\n",
    "        plt.tight_layout()\n",
    "        plt.savefig(PLOTS_OUT_PATH + \"discrete_{}_multibar.pdf\".format(description))\n",
    "        plt.show()\n",
    "\n",
    "def gen_multilines_numeric_poll():\n",
    "    epsilons = [0.25, 0.5, 1.0, 2.0,4.0,8.0,12.0,16.0,20.0]\n",
    "    clients_metrics_e = dict()\n",
    "\n",
    "    for exp in os.listdir(ROOT_RESULTS_PATH):\n",
    "        # use regex to get epsilon: format 5000c_0.25e_s\n",
    "        ep = float(re.search(r'(\\d+c)_(\\d+\\.\\d+)e', exp).group(2))\n",
    "        if ep not in epsilons:\n",
    "            continue\n",
    "        with open(ROOT_RESULTS_PATH + exp + \"/\" + CLIENTS_METRICS, \"r\") as f:\n",
    "            clients_metrics_e[ep] = list(map(lambda x: json.loads(x), f.readlines()))\n",
    "\n",
    "    nranges = 20\n",
    "    for description in list(filter(lambda x: x.startswith(\"N\"), poll_values.keys())):\n",
    "        min_val = poll_values[description][0]\n",
    "        max_val = poll_values[description][1]\n",
    "\n",
    "        fig, ax = plt.subplots()\n",
    "\n",
    "        true_values, noisy_values = calculate_numeric_vote_distribution(description)\n",
    "        true_distribution = count_ranges(true_values, nranges, min_val, max_val)\n",
    "        noisy_distribution = count_ranges(noisy_values, nranges, min_val, max_val)\n",
    "        # x should be beggining of each range\n",
    "        x = np.arange(min_val, max_val, (max_val-min_val)/nranges)\n",
    "\n",
    "        for ep in epsilons:\n",
    "            true_values, noisy_values = calculate_numeric_vote_distribution_e(description, clients_metrics_e[ep])\n",
    "            noisy_distribution = count_ranges(noisy_values, nranges, min_val, max_val)\n",
    "            ax.plot(x, noisy_distribution, label=\"DP Votes (ε = {})\".format(ep))\n",
    "        true_distribution = count_ranges(true_values, nranges, min_val, max_val)\n",
    "        ax.plot(x, true_distribution, label=\"True Votes\")\n",
    "\n",
    "        plt.xlim(min_val, max_val)\n",
    "        ax.legend()\n",
    "        plt.tight_layout()\n",
    "        plt.xlabel(\"Votes\")\n",
    "        plt.ylabel('Nº Votes')\n",
    "        plt.grid()\n",
    "        ax.set_axisbelow(True)\n",
    "        plt.tight_layout()\n",
    "        plt.savefig(PLOTS_OUT_PATH + \"numeric_{}_multiline.pdf\".format(description))\n",
    "        plt.show()\n",
    "\n"
   ],
   "metadata": {
    "collapsed": false
   }
  },
  {
   "cell_type": "code",
   "execution_count": null,
   "outputs": [],
   "source": [
    "gen_multibars_discrete_poll()"
   ],
   "metadata": {
    "collapsed": false
   }
  },
  {
   "cell_type": "code",
   "execution_count": null,
   "outputs": [],
   "source": [
    "gen_multilines_numeric_poll()"
   ],
   "metadata": {
    "collapsed": false
   }
  },
  {
   "cell_type": "markdown",
   "source": [
    "### D01 Poll"
   ],
   "metadata": {
    "collapsed": false
   }
  },
  {
   "cell_type": "code",
   "execution_count": null,
   "outputs": [],
   "source": [
    "\n",
    "a = 0\n",
    "b = 9\n",
    "\n",
    "description = \"D01\"\n",
    "nvotes = num_votes(description)\n",
    "\n",
    "expected_distribution = calculate_values_integer_uniform(a, b, nvotes)\n",
    "true_distribution, noisy_distribution = calculate_discrete_vote_distribution(description, b)\n",
    "\n",
    "gen_bars_discrete_poll(description, expected_distribution, true_distribution, noisy_distribution)"
   ],
   "metadata": {
    "collapsed": false
   }
  },
  {
   "cell_type": "markdown",
   "source": [
    "### D02 Poll"
   ],
   "metadata": {
    "collapsed": false
   }
  },
  {
   "cell_type": "code",
   "execution_count": null,
   "outputs": [],
   "source": [
    "\n",
    "# Set the parameters for the binomial distribution\n",
    "n = 9  # Number of trials\n",
    "p = 0.3  # Probability of success\n",
    "\n",
    "description = \"D02\"\n",
    "nvotes = num_votes(description)\n",
    "\n",
    "expected_distribution = calculate_values_binomial(n, p, nvotes)\n",
    "true_distribution, noisy_distribution = calculate_discrete_vote_distribution(description, n)\n",
    "\n",
    "gen_bars_discrete_poll(description, expected_distribution, true_distribution, noisy_distribution)"
   ],
   "metadata": {
    "collapsed": false
   }
  },
  {
   "cell_type": "markdown",
   "source": [],
   "metadata": {
    "collapsed": false
   }
  },
  {
   "cell_type": "code",
   "execution_count": null,
   "outputs": [],
   "source": [
    "nranges = 50"
   ],
   "metadata": {
    "collapsed": false
   }
  },
  {
   "cell_type": "markdown",
   "source": [
    "### N01 Poll"
   ],
   "metadata": {
    "collapsed": false
   }
  },
  {
   "cell_type": "code",
   "execution_count": null,
   "outputs": [],
   "source": [
    "description = \"N01\"\n",
    "mean = 5.0\n",
    "std = 1.5\n",
    "\n",
    "gen_plot_numeric_poll(description, nranges, mean, std)\n"
   ],
   "metadata": {
    "collapsed": false
   }
  },
  {
   "cell_type": "markdown",
   "source": [
    "### N02 Poll"
   ],
   "metadata": {
    "collapsed": false
   }
  },
  {
   "cell_type": "code",
   "execution_count": null,
   "outputs": [],
   "source": [
    "description = \"N02\"\n",
    "mean = 8.0\n",
    "std = 1.5\n",
    "\n",
    "gen_plot_numeric_poll(description, nranges, mean, std)\n"
   ],
   "metadata": {
    "collapsed": false
   }
  },
  {
   "cell_type": "markdown",
   "source": [],
   "metadata": {
    "collapsed": false
   }
  }
 ],
 "metadata": {
  "kernelspec": {
   "display_name": "Python 3",
   "language": "python",
   "name": "python3"
  },
  "language_info": {
   "codemirror_mode": {
    "name": "ipython",
    "version": 2
   },
   "file_extension": ".py",
   "mimetype": "text/x-python",
   "name": "python",
   "nbconvert_exporter": "python",
   "pygments_lexer": "ipython2",
   "version": "2.7.6"
  }
 },
 "nbformat": 4,
 "nbformat_minor": 0
}
