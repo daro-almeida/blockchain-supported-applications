{
 "cells": [
  {
   "cell_type": "markdown",
   "source": [
    "# Import libraries and metrics"
   ],
   "metadata": {
    "collapsed": false
   }
  },
  {
   "cell_type": "code",
   "execution_count": 422,
   "outputs": [],
   "source": [
    "import json\n",
    "import numpy as np\n",
    "import matplotlib.pyplot as plt\n",
    "from collections import defaultdict as dd\n",
    "\n",
    "RESULTS_PATH = \"results/\"\n",
    "CLIENTS_METRICS = \"clients.json\"\n",
    "NODES_METRICS = \"node%d.json\"\n",
    "\n",
    "PLOTS_OUT_PATH = \"plots/\"\n",
    "\n",
    "with open(RESULTS_PATH + CLIENTS_METRICS, \"r\") as f:\n",
    "    file = open(RESULTS_PATH + CLIENTS_METRICS)\n",
    "    clients_metrics = list(map(lambda x: json.loads(x), file.readlines()))\n",
    "\n",
    "nodes_metrics = {}\n",
    "for i in range(1, 5):\n",
    "    with open(RESULTS_PATH + NODES_METRICS % i, \"r\") as f:\n",
    "        file = open(RESULTS_PATH + NODES_METRICS % i)\n",
    "        nodes_metrics[i] = list(map(lambda x: json.loads(x), file.readlines()))\n"
   ],
   "metadata": {
    "collapsed": false,
    "ExecuteTime": {
     "end_time": "2023-05-14T03:26:06.100386297Z",
     "start_time": "2023-05-14T03:26:06.027694640Z"
    }
   }
  },
  {
   "cell_type": "markdown",
   "source": [
    "# Results"
   ],
   "metadata": {
    "collapsed": false
   }
  },
  {
   "cell_type": "markdown",
   "source": [
    "## Correctness Tests"
   ],
   "metadata": {
    "collapsed": false
   }
  },
  {
   "cell_type": "markdown",
   "source": [
    "### Correct Blockchain Order"
   ],
   "metadata": {
    "collapsed": false
   }
  },
  {
   "cell_type": "code",
   "execution_count": 423,
   "outputs": [
    {
     "name": "stdout",
     "output_type": "stream",
     "text": [
      "Different number of blocks in nodes\n",
      "{1: 50, 2: 152, 3: 152, 4: 152}\n",
      "ERROR: Different blocks in nodes in seq=50\n",
      "Node 1: 518e9068f908def7a6815f5623e4d0684e343cb46b364980eaeedd470cdc722d\n",
      "Node 2: 374718e75f15e581cc13ef6f7c82e196cea767e3d2c2f3964a79ab2096aa4b41\n",
      "ERROR: Different blocks in nodes in seq=50\n",
      "Node 1: 518e9068f908def7a6815f5623e4d0684e343cb46b364980eaeedd470cdc722d\n",
      "Node 3: 374718e75f15e581cc13ef6f7c82e196cea767e3d2c2f3964a79ab2096aa4b41\n",
      "ERROR: Different blocks in nodes in seq=50\n",
      "Node 1: 518e9068f908def7a6815f5623e4d0684e343cb46b364980eaeedd470cdc722d\n",
      "Node 4: 374718e75f15e581cc13ef6f7c82e196cea767e3d2c2f3964a79ab2096aa4b41\n",
      "ERROR: Different blocks in nodes in seq=50\n",
      "Node 2: 374718e75f15e581cc13ef6f7c82e196cea767e3d2c2f3964a79ab2096aa4b41\n",
      "Node 1: 518e9068f908def7a6815f5623e4d0684e343cb46b364980eaeedd470cdc722d\n",
      "ERROR: Different blocks in nodes in seq=50\n",
      "Node 3: 374718e75f15e581cc13ef6f7c82e196cea767e3d2c2f3964a79ab2096aa4b41\n",
      "Node 1: 518e9068f908def7a6815f5623e4d0684e343cb46b364980eaeedd470cdc722d\n",
      "ERROR: Different blocks in nodes in seq=50\n",
      "Node 4: 374718e75f15e581cc13ef6f7c82e196cea767e3d2c2f3964a79ab2096aa4b41\n",
      "Node 1: 518e9068f908def7a6815f5623e4d0684e343cb46b364980eaeedd470cdc722d\n",
      "All nodes have the same blocks in same order\n"
     ]
    }
   ],
   "source": [
    "# Check if 2f+1 nodes have the same number of blocks\n",
    "num_blocks = {}\n",
    "for i in range(1, 5):\n",
    "    num_blocks[i] = len(list(filter(lambda x: x[\"metric\"] == \"committed_block\", nodes_metrics[i])))\n",
    "if len(set(num_blocks.values())) > 1:\n",
    "    print(\"Different number of blocks in nodes\")\n",
    "    print(num_blocks)\n",
    "else:\n",
    "    print(\"All nodes have the same number of blocks: \" + str(num_blocks[1]))\n",
    "\n",
    "# Check if all nodes have the same blocks in same order\n",
    "blocks = dd(dict)\n",
    "for i in range(1, 5):\n",
    "    for block in list(filter(lambda x: x[\"metric\"] == \"committed_block\", nodes_metrics[i])):\n",
    "        blocks[i][int(block[\"seq\"])] = block[\"hash\"]\n",
    "\n",
    "for i in range(1, 5):\n",
    "    for j in range(1, 5):\n",
    "        for k in range(1, np.max(list(num_blocks.values())) + 1):\n",
    "            try:\n",
    "                if blocks[i][k] != blocks[j][k] and blocks[i][k]:\n",
    "                    print(\"ERROR: Different blocks in nodes in seq=\" + str(k))\n",
    "                    print(\"Node \" + str(i) + \": \" + blocks[i][k])\n",
    "                    print(\"Node \" + str(j) + \": \" + blocks[j][k])\n",
    "                    pass\n",
    "            except KeyError:\n",
    "                continue\n",
    "\n",
    "print(\"All nodes have the same blocks in same order\")"
   ],
   "metadata": {
    "collapsed": false,
    "ExecuteTime": {
     "end_time": "2023-05-14T03:26:06.154525867Z",
     "start_time": "2023-05-14T03:26:06.126170596Z"
    }
   }
  },
  {
   "cell_type": "markdown",
   "source": [],
   "metadata": {
    "collapsed": false
   }
  },
  {
   "cell_type": "markdown",
   "source": [
    "## Simple Statistics"
   ],
   "metadata": {
    "collapsed": false
   }
  },
  {
   "cell_type": "markdown",
   "source": [
    "### Average Block Size"
   ],
   "metadata": {
    "collapsed": false
   }
  },
  {
   "cell_type": "code",
   "execution_count": 424,
   "outputs": [
    {
     "name": "stdout",
     "output_type": "stream",
     "text": [
      "Average block size: 59.22 operations\n"
     ]
    }
   ],
   "source": [
    "avg_block_size = np.mean(list(map(lambda x: int(x[\"num_ops\"]), filter(lambda x: x[\"metric\"] == \"committed_block\", nodes_metrics[1]))))\n",
    "print(\"Average block size: \" + str(avg_block_size) + \" operations\")"
   ],
   "metadata": {
    "collapsed": false,
    "ExecuteTime": {
     "end_time": "2023-05-14T03:26:06.155055202Z",
     "start_time": "2023-05-14T03:26:06.126780035Z"
    }
   }
  },
  {
   "cell_type": "markdown",
   "source": [
    "### Average immediate reply time"
   ],
   "metadata": {
    "collapsed": false
   }
  },
  {
   "cell_type": "code",
   "execution_count": 425,
   "outputs": [
    {
     "name": "stdout",
     "output_type": "stream",
     "text": [
      "Average reply time: 5.437357630979498 ms\n"
     ]
    }
   ],
   "source": [
    "avg_reply = np.mean(list(map(lambda x: int(x[\"latency\"]), filter(lambda x: x[\"metric\"] == \"operation_reply\", clients_metrics))))\n",
    "print(\"Average reply time: \" + str(avg_reply) + \" ms\")"
   ],
   "metadata": {
    "collapsed": false,
    "pycharm": {
     "is_executing": true
    },
    "ExecuteTime": {
     "end_time": "2023-05-14T03:26:06.155394761Z",
     "start_time": "2023-05-14T03:26:06.127140048Z"
    }
   }
  },
  {
   "cell_type": "markdown",
   "source": [
    "### Average operation execution time"
   ],
   "metadata": {
    "collapsed": false
   }
  },
  {
   "cell_type": "code",
   "execution_count": 426,
   "outputs": [
    {
     "name": "stdout",
     "output_type": "stream",
     "text": [
      "Average execution time: 309.07591222250574 ms\n"
     ]
    }
   ],
   "source": [
    "avg_exec = np.mean(list(map(lambda x: int(x[\"latency\"]), filter(lambda x: x[\"metric\"] == \"operation_executed\", clients_metrics))))\n",
    "print(\"Average execution time: \" + str(avg_exec) + \" ms\")"
   ],
   "metadata": {
    "collapsed": false,
    "ExecuteTime": {
     "end_time": "2023-05-14T03:26:06.155693620Z",
     "start_time": "2023-05-14T03:26:06.127509714Z"
    }
   }
  },
  {
   "cell_type": "markdown",
   "source": [
    "### Executed Operations Throughput"
   ],
   "metadata": {
    "collapsed": false
   }
  },
  {
   "cell_type": "code",
   "execution_count": 427,
   "outputs": [
    {
     "name": "stdout",
     "output_type": "stream",
     "text": [
      "Throughput: 133.626568466994 ops/s\n"
     ]
    }
   ],
   "source": [
    "# calculate start and end\n",
    "elapsed = int(clients_metrics[-1][\"time\"]) - int(clients_metrics[0][\"time\"])\n",
    "\n",
    "# calculate number of blocks\n",
    "num_blocks = len(list(filter(lambda x: x[\"metric\"] == \"operation_executed\", clients_metrics)))\n",
    "\n",
    "# calculate throughput\n",
    "throughput = num_blocks / (elapsed / 1000)\n",
    "\n",
    "print(\"Throughput: \" + str(throughput) + \" ops/s\")"
   ],
   "metadata": {
    "collapsed": false,
    "ExecuteTime": {
     "end_time": "2023-05-14T03:26:06.156433333Z",
     "start_time": "2023-05-14T03:26:06.146951399Z"
    }
   }
  },
  {
   "cell_type": "markdown",
   "source": [
    "### Block Throughput"
   ],
   "metadata": {
    "collapsed": false
   }
  },
  {
   "cell_type": "code",
   "execution_count": 428,
   "outputs": [
    {
     "name": "stdout",
     "output_type": "stream",
     "text": [
      "Throughput: 2.656181738750546 blocks/s\n"
     ]
    }
   ],
   "source": [
    "# calculate start and end\n",
    "elapsed = int(nodes_metrics[3][-1][\"time\"]) - int(nodes_metrics[3][0][\"time\"])\n",
    "\n",
    "# calculate number of blocks\n",
    "num_blocks = len(list(filter(lambda x: x[\"metric\"] == \"committed_block\", nodes_metrics[2])))\n",
    "\n",
    "# calculate throughput\n",
    "throughput = num_blocks / (elapsed / 1000)\n",
    "\n",
    "print(\"Throughput: \" + str(throughput) + \" blocks/s\")\n"
   ],
   "metadata": {
    "collapsed": false,
    "ExecuteTime": {
     "end_time": "2023-05-14T03:26:06.254941849Z",
     "start_time": "2023-05-14T03:26:06.152441917Z"
    }
   }
  },
  {
   "cell_type": "markdown",
   "source": [
    "## Plotting"
   ],
   "metadata": {
    "collapsed": false
   }
  },
  {
   "cell_type": "markdown",
   "source": [
    "### Latency Per Operation"
   ],
   "metadata": {
    "collapsed": false
   }
  },
  {
   "cell_type": "code",
   "execution_count": 429,
   "outputs": [
    {
     "data": {
      "text/plain": "<Figure size 432x288 with 1 Axes>",
      "image/png": "[encoded data removed]"
     },
     "metadata": {
      "needs_background": "light"
     },
     "output_type": "display_data"
    }
   ],
   "source": [
    "latencies = list(map(lambda x: int(x[\"latency\"]), filter(lambda x: x[\"metric\"] == \"operation_executed\", clients_metrics)))\n",
    "\n",
    "# average of each 100 ops\n",
    "avg_latencies = []\n",
    "for i in range(0, len(latencies), 100):\n",
    "    avg_latencies.append(np.mean(latencies[i:i+100]))\n",
    "\n",
    "\n",
    "plt.plot(avg_latencies)\n",
    "plt.ylabel(\"Latency (ms)\")\n",
    "plt.xlabel(\"Hundreds of Operations\")\n",
    "plt.title(\"Latency per Operation\")\n",
    "plt.savefig(PLOTS_OUT_PATH + \"latency_per_operation.pdf\")\n",
    "plt.show()\n"
   ],
   "metadata": {
    "collapsed": false,
    "ExecuteTime": {
     "end_time": "2023-05-14T03:26:06.449882327Z",
     "start_time": "2023-05-14T03:26:06.197876054Z"
    }
   }
  }
 ],
 "metadata": {
  "kernelspec": {
   "display_name": "Python 3",
   "language": "python",
   "name": "python3"
  },
  "language_info": {
   "codemirror_mode": {
    "name": "ipython",
    "version": 2
   },
   "file_extension": ".py",
   "mimetype": "text/x-python",
   "name": "python",
   "nbconvert_exporter": "python",
   "pygments_lexer": "ipython2",
   "version": "2.7.6"
  }
 },
 "nbformat": 4,
 "nbformat_minor": 0
}
