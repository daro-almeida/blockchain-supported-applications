{
 "cells": [
  {
   "cell_type": "markdown",
   "source": [
    "# Import libraries and metrics"
   ],
   "metadata": {
    "collapsed": false
   }
  },
  {
   "cell_type": "code",
   "execution_count": 20,
   "outputs": [],
   "source": [
    "import json\n",
    "import numpy as np\n",
    "import matplotlib.pyplot as plt\n",
    "from collections import defaultdict as dd\n",
    "\n",
    "RESULTS_PATH = \"results/\"\n",
    "CLIENTS_METRICS = \"clients.json\"\n",
    "NODES_METRICS = \"node%d.json\"\n",
    "\n",
    "PLOTS_OUT_PATH = \"plots/\"\n",
    "\n",
    "with open(RESULTS_PATH + CLIENTS_METRICS, \"r\") as f:\n",
    "    file = open(RESULTS_PATH + CLIENTS_METRICS)\n",
    "    clients_metrics = list(map(lambda x: json.loads(x), file.readlines()))\n",
    "\n",
    "nodes_metrics = {}\n",
    "for i in range(1, 5):\n",
    "    with open(RESULTS_PATH + NODES_METRICS % i, \"r\") as f:\n",
    "        file = open(RESULTS_PATH + NODES_METRICS % i)\n",
    "        nodes_metrics[i] = list(map(lambda x: json.loads(x), file.readlines()))\n"
   ],
   "metadata": {
    "collapsed": false,
    "ExecuteTime": {
     "end_time": "2023-05-13T16:38:05.544900896Z",
     "start_time": "2023-05-13T16:38:05.469560351Z"
    }
   }
  },
  {
   "cell_type": "markdown",
   "source": [
    "# Results"
   ],
   "metadata": {
    "collapsed": false
   }
  },
  {
   "cell_type": "markdown",
   "source": [
    "## Correctness Tests"
   ],
   "metadata": {
    "collapsed": false
   }
  },
  {
   "cell_type": "markdown",
   "source": [
    "### Correct Blockchain Order"
   ],
   "metadata": {
    "collapsed": false
   }
  },
  {
   "cell_type": "code",
   "execution_count": 21,
   "outputs": [
    {
     "name": "stdout",
     "output_type": "stream",
     "text": [
      "All nodes have the same number of blocks: 79\n",
      "All nodes have the same blocks in same order\n"
     ]
    }
   ],
   "source": [
    "# Check if all nodes have the same number of blocks\n",
    "num_blocks = {}\n",
    "for i in range(1, 5):\n",
    "    num_blocks[i] = len(list(filter(lambda x: x[\"metric\"] == \"committed_block\", nodes_metrics[i])))\n",
    "if len(set(num_blocks.values())) != 1:\n",
    "    print(\"ERROR: Different number of blocks in nodes\")\n",
    "    print(num_blocks)\n",
    "else:\n",
    "    print(\"All nodes have the same number of blocks: \" + str(num_blocks[1]))\n",
    "\n",
    "# Check if all nodes have the same blocks in same order\n",
    "blocks = dd(dict)\n",
    "for i in range(1, 5):\n",
    "    for block in list(filter(lambda x: x[\"metric\"] == \"committed_block\", nodes_metrics[i])):\n",
    "        blocks[i][int(block[\"seq\"])] = block[\"hash\"]\n",
    "\n",
    "for i in range(1, 5):\n",
    "    for j in range(1, 5):\n",
    "        for k in range(1, num_blocks[1] + 1):\n",
    "            if blocks[i][k] != blocks[j][k]:\n",
    "                print(\"ERROR: Different blocks in nodes in seq=\" + str(k))\n",
    "                print(\"Node \" + str(i) + \": \" + blocks[i][k])\n",
    "                print(\"Node \" + str(j) + \": \" + blocks[j][k])\n",
    "                exit()\n",
    "\n",
    "print(\"All nodes have the same blocks in same order\")"
   ],
   "metadata": {
    "collapsed": false,
    "ExecuteTime": {
     "end_time": "2023-05-13T16:38:05.545914863Z",
     "start_time": "2023-05-13T16:38:05.492913963Z"
    }
   }
  },
  {
   "cell_type": "markdown",
   "source": [],
   "metadata": {
    "collapsed": false
   }
  },
  {
   "cell_type": "markdown",
   "source": [
    "## Simple Statistics"
   ],
   "metadata": {
    "collapsed": false
   }
  },
  {
   "cell_type": "markdown",
   "source": [
    "### Average immediate reply time"
   ],
   "metadata": {
    "collapsed": false
   }
  },
  {
   "cell_type": "code",
   "execution_count": 22,
   "outputs": [
    {
     "name": "stdout",
     "output_type": "stream",
     "text": [
      "Average reply time: 46.69054054054054 ms\n"
     ]
    }
   ],
   "source": [
    "avg_reply = np.mean(list(map(lambda x: int(x[\"latency\"]), filter(lambda x: x[\"metric\"] == \"operation_reply\", clients_metrics))))\n",
    "print(\"Average reply time: \" + str(avg_reply) + \" ms\")"
   ],
   "metadata": {
    "collapsed": false,
    "pycharm": {
     "is_executing": true
    },
    "ExecuteTime": {
     "end_time": "2023-05-13T16:38:05.546190636Z",
     "start_time": "2023-05-13T16:38:05.505331223Z"
    }
   }
  },
  {
   "cell_type": "markdown",
   "source": [
    "### Average operation execution time"
   ],
   "metadata": {
    "collapsed": false
   }
  },
  {
   "cell_type": "code",
   "execution_count": 23,
   "outputs": [
    {
     "name": "stdout",
     "output_type": "stream",
     "text": [
      "Average execution time: 377.0955585464334 ms\n"
     ]
    }
   ],
   "source": [
    "avg_exec = np.mean(list(map(lambda x: int(x[\"latency\"]), filter(lambda x: x[\"metric\"] == \"operation_executed\", clients_metrics))))\n",
    "print(\"Average execution time: \" + str(avg_exec) + \" ms\")"
   ],
   "metadata": {
    "collapsed": false,
    "ExecuteTime": {
     "end_time": "2023-05-13T16:38:05.561681314Z",
     "start_time": "2023-05-13T16:38:05.549898067Z"
    }
   }
  },
  {
   "cell_type": "markdown",
   "source": [
    "### Block Throughput"
   ],
   "metadata": {
    "collapsed": false
   }
  },
  {
   "cell_type": "code",
   "execution_count": 27,
   "outputs": [
    {
     "name": "stdout",
     "output_type": "stream",
     "text": [
      "Elapsed time: 45138636387 ms\n",
      "Throughput: 1.7501636363732098 blocks/s\n"
     ]
    }
   ],
   "source": [
    "# calculate start and end\n",
    "elapsed = int(nodes_metrics[2][-1][\"time\"]) - int(nodes_metrics[2][0][\"time\"])\n",
    "print(\"Elapsed time: \" + str(elapsed) + \" ms\")\n",
    "\n",
    "# calculate number of blocks\n",
    "num_blocks = len(list(filter(lambda x: x[\"metric\"] == \"committed_block\", nodes_metrics[2])))\n",
    "\n",
    "# calculate throughput\n",
    "throughput = num_blocks / (elapsed / 1000000000)\n",
    "\n",
    "print(\"Throughput: \" + str(throughput) + \" blocks/s\")\n"
   ],
   "metadata": {
    "collapsed": false,
    "ExecuteTime": {
     "end_time": "2023-05-13T16:39:43.595996759Z",
     "start_time": "2023-05-13T16:39:43.551106491Z"
    }
   }
  },
  {
   "cell_type": "markdown",
   "source": [
    "## Plotting"
   ],
   "metadata": {
    "collapsed": false
   }
  },
  {
   "cell_type": "markdown",
   "source": [
    "### Throughput-Latency"
   ],
   "metadata": {
    "collapsed": false
   }
  }
 ],
 "metadata": {
  "kernelspec": {
   "display_name": "Python 3",
   "language": "python",
   "name": "python3"
  },
  "language_info": {
   "codemirror_mode": {
    "name": "ipython",
    "version": 2
   },
   "file_extension": ".py",
   "mimetype": "text/x-python",
   "name": "python",
   "nbconvert_exporter": "python",
   "pygments_lexer": "ipython2",
   "version": "2.7.6"
  }
 },
 "nbformat": 4,
 "nbformat_minor": 0
}
