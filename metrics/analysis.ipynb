{
 "cells": [
  {
   "cell_type": "code",
   "execution_count": null,
   "metadata": {
    "collapsed": true,
    "pycharm": {
     "is_executing": true
    }
   },
   "outputs": [],
   "source": [
    "import json\n",
    "import numpy as np\n",
    "\n",
    "RESULTS_PATH = \"results/\"\n",
    "METRICS_FILE = \"metrics.json\"\n",
    "\n",
    "METRICS_PATH = RESULTS_PATH + METRICS_FILE\n",
    "PLOTS_OUT_PATH = \"plots/\"\n",
    "\n",
    "max = np.max(1,2)\n",
    "print(max)\n",
    "with open(METRICS_PATH, \"r\") as f:\n",
    "    file = open(METRICS_PATH)\n",
    "    metrics = list(map(lambda x: json.loads(x), file.readlines()))"
   ]
  },
  {
   "cell_type": "code",
   "execution_count": null,
   "outputs": [],
   "source": [
    "import sys\n",
    "print(sys.executable)"
   ],
   "metadata": {
    "collapsed": false,
    "pycharm": {
     "is_executing": true
    }
   }
  },
  {
   "cell_type": "code",
   "execution_count": null,
   "outputs": [],
   "source": [
    "avg_reply = np.mean(list(map(lambda x: int(x[\"operation_reply\"]), metrics)))\n",
    "print(\"Average reply time: \" + str(avg_reply) + \" ms\")"
   ],
   "metadata": {
    "collapsed": false,
    "pycharm": {
     "is_executing": true
    }
   }
  }
 ],
 "metadata": {
  "kernelspec": {
   "display_name": "Python 3",
   "language": "python",
   "name": "python3"
  },
  "language_info": {
   "codemirror_mode": {
    "name": "ipython",
    "version": 2
   },
   "file_extension": ".py",
   "mimetype": "text/x-python",
   "name": "python",
   "nbconvert_exporter": "python",
   "pygments_lexer": "ipython2",
   "version": "2.7.6"
  }
 },
 "nbformat": 4,
 "nbformat_minor": 0
}
