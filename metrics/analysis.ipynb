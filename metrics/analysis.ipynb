{
 "cells": [
  {
   "cell_type": "markdown",
   "source": [
    "# Import metrics and libraries"
   ],
   "metadata": {
    "collapsed": false
   }
  },
  {
   "cell_type": "code",
   "execution_count": null,
   "outputs": [],
   "source": [
    "import json\n",
    "import numpy as np\n",
    "\n",
    "RESULTS_PATH = \"results/\"\n",
    "METRICS_FILE = \"clients.json\"\n",
    "\n",
    "METRICS_PATH = RESULTS_PATH + METRICS_FILE\n",
    "PLOTS_OUT_PATH = \"plots/\"\n",
    "\n",
    "with open(METRICS_PATH, \"r\") as f:\n",
    "    file = open(METRICS_PATH)\n",
    "    metrics = list(map(lambda x: json.loads(x), file.readlines()))"
   ],
   "metadata": {
    "collapsed": false
   }
  },
  {
   "cell_type": "markdown",
   "source": [
    "### Average immediate reply time"
   ],
   "metadata": {
    "collapsed": false
   }
  },
  {
   "cell_type": "code",
   "execution_count": null,
   "outputs": [],
   "source": [
    "avg_reply = np.mean(list(map(lambda x: int(x[\"latency\"]), filter(lambda x: x[\"metric\"] == \"operation_reply\", metrics))))\n",
    "print(\"Average reply time: \" + str(avg_reply) + \" ms\")"
   ],
   "metadata": {
    "collapsed": false,
    "pycharm": {
     "is_executing": true
    }
   }
  }
 ],
 "metadata": {
  "kernelspec": {
   "display_name": "Python 3",
   "language": "python",
   "name": "python3"
  },
  "language_info": {
   "codemirror_mode": {
    "name": "ipython",
    "version": 2
   },
   "file_extension": ".py",
   "mimetype": "text/x-python",
   "name": "python",
   "nbconvert_exporter": "python",
   "pygments_lexer": "ipython2",
   "version": "2.7.6"
  }
 },
 "nbformat": 4,
 "nbformat_minor": 0
}
